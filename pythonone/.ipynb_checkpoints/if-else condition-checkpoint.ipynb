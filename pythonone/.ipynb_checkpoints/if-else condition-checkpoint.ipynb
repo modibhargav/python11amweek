{
 "cells": [
  {
   "cell_type": "markdown",
   "metadata": {},
   "source": [
    "# if-else formet"
   ]
  },
  {
   "cell_type": "code",
   "execution_count": null,
   "metadata": {},
   "outputs": [],
   "source": [
    "# if condition:\n",
    "     print('condition one is true')\n",
    "  elif condition:\n",
    "     print('condition two is true')\n",
    "  elif condition:\n",
    "     print('condition third is true')\n",
    "  else:\n",
    "     print('all above condition is false')"
   ]
  },
  {
   "cell_type": "code",
   "execution_count": 3,
   "metadata": {},
   "outputs": [
    {
     "name": "stdout",
     "output_type": "stream",
     "text": [
      "condition is true\n"
     ]
    }
   ],
   "source": [
    "if True:\n",
    "    print('condition is true')\n",
    "else:\n",
    "    print('above condition is false')"
   ]
  },
  {
   "cell_type": "code",
   "execution_count": 5,
   "metadata": {},
   "outputs": [
    {
     "name": "stdout",
     "output_type": "stream",
     "text": [
      "above condition is false\n"
     ]
    }
   ],
   "source": [
    "if False:\n",
    "    print('condition is true')\n",
    "else:\n",
    "    print('above condition is false')"
   ]
  },
  {
   "cell_type": "code",
   "execution_count": 7,
   "metadata": {},
   "outputs": [
    {
     "name": "stdout",
     "output_type": "stream",
     "text": [
      "condition is true\n"
     ]
    }
   ],
   "source": [
    "if 'a':\n",
    "    print('condition is true')\n",
    "elif'':\n",
    "    print('condition is true')\n",
    "elif'bhargav':\n",
    "    print('condition is true me be false')\n",
    "else:\n",
    "    print('sab moh maya hei')"
   ]
  },
  {
   "cell_type": "code",
   "execution_count": 11,
   "metadata": {},
   "outputs": [
    {
     "name": "stdout",
     "output_type": "stream",
     "text": [
      "condition is false\n"
     ]
    }
   ],
   "source": [
    "if 'a':\n",
    "    print('condition is false')\n",
    "elif'':\n",
    "    print('condition is true')\n",
    "elif'bhargav':\n",
    "    print('condition is also true but may be false')\n",
    "else:\n",
    "    print('sab moh maya hei')"
   ]
  },
  {
   "cell_type": "code",
   "execution_count": 8,
   "metadata": {},
   "outputs": [
    {
     "name": "stdout",
     "output_type": "stream",
     "text": [
      "sab moh maya he\n"
     ]
    }
   ],
   "source": [
    "if'':\n",
    "    print('condition is true')\n",
    "elif'':\n",
    "    print('condition is true')\n",
    "elif False:\n",
    "    print('condition is also true but may be false')\n",
    "else:\n",
    "    print('sab moh maya he')"
   ]
  },
  {
   "cell_type": "code",
   "execution_count": 10,
   "metadata": {},
   "outputs": [
    {
     "name": "stdout",
     "output_type": "stream",
     "text": [
      "enter a number:5\n",
      "enter a number odd\n"
     ]
    }
   ],
   "source": [
    "inp = int(input('enter a number:'))\n",
    "if inp%2 == 0:\n",
    "    print('enter a number even')\n",
    "else:\n",
    "    print('enter a number odd')"
   ]
  },
  {
   "cell_type": "code",
   "execution_count": 7,
   "metadata": {},
   "outputs": [
    {
     "name": "stdout",
     "output_type": "stream",
     "text": [
      "enter x number:56\n",
      "enter y number:78\n",
      "entar z number:95\n",
      "z is big\n"
     ]
    }
   ],
   "source": [
    "x=int(input('enter x number:'))\n",
    "y=int(input('enter y number:'))\n",
    "z=int(input('entar z number:'))\n",
    "if x>y and x>z:\n",
    "    print('x is big')\n",
    "if y>z and y>x:\n",
    "    print('y is big')\n",
    "if z>x and z>y:\n",
    "    print('z is big')"
   ]
  },
  {
   "cell_type": "code",
   "execution_count": 9,
   "metadata": {},
   "outputs": [
    {
     "name": "stdout",
     "output_type": "stream",
     "text": [
      "enter x number:85\n",
      "enter y number:52\n",
      "entar z number:46\n",
      "x is largest 85\n"
     ]
    }
   ],
   "source": [
    "x=int(input('enter x number:'))\n",
    "y=int(input('enter y number:'))\n",
    "z=int(input('entar z number:'))\n",
    "if x>=y and x>=z:\n",
    "    print('x is largest',x)\n",
    "elif y>=z:\n",
    "    print('y is largest',y)\n",
    "else:\n",
    "    print('z is largest',z)\n"
   ]
  },
  {
   "cell_type": "code",
   "execution_count": 7,
   "metadata": {},
   "outputs": [
    {
     "name": "stdout",
     "output_type": "stream",
     "text": [
      "enter foo / bar:              bhargav\n",
      "foo | bar\n"
     ]
    }
   ],
   "source": [
    "inp = input('enter foo / bar:').lower().strip().replace('','')\n",
    "if inp == 'foo':\n",
    "    print('bar')\n",
    "elif inp == 'bar':\n",
    "    print('foo')\n",
    "else:\n",
    "    print('foo | bar')\n"
   ]
  },
  {
   "cell_type": "code",
   "execution_count": 9,
   "metadata": {},
   "outputs": [
    {
     "name": "stdout",
     "output_type": "stream",
     "text": [
      "enter foo/bar:      bhargav\n",
      "foo | bar\n"
     ]
    }
   ],
   "source": [
    "a = input('enter foo/bar:').lower().strip()\n",
    "a = ''.join(a.split())\n",
    "if a=='foo':\n",
    "    print('bar')\n",
    "elif a=='bar':\n",
    "    print('foo')\n",
    "else:\n",
    "    print('foo | bar')"
   ]
  },
  {
   "cell_type": "code",
   "execution_count": 10,
   "metadata": {},
   "outputs": [
    {
     "name": "stdout",
     "output_type": "stream",
     "text": [
      "['hello', 'world', 'python', 'ajay', 'awesome']\n"
     ]
    }
   ],
   "source": [
    "a = 'hello world python ajay awesome'\n",
    "b = a.split()\n",
    "print(b)"
   ]
  },
  {
   "cell_type": "code",
   "execution_count": 14,
   "metadata": {},
   "outputs": [
    {
     "data": {
      "text/plain": [
       "'hello world python ajay awesome'"
      ]
     },
     "execution_count": 14,
     "metadata": {},
     "output_type": "execute_result"
    }
   ],
   "source": [
    "' '.join(b)"
   ]
  },
  {
   "cell_type": "code",
   "execution_count": 32,
   "metadata": {},
   "outputs": [
    {
     "name": "stdout",
     "output_type": "stream",
     "text": [
      "enter foo/bar:FOO\n",
      "bar\n"
     ]
    }
   ],
   "source": [
    "inp = input('enter foo/bar:')\n",
    "if inp.upper().replace(' ','') == 'FOO':\n",
    "    print('bar')\n",
    "elif inp.upper().repalce(' ','') == 'BAR':\n",
    "    print('foo')\n",
    "else:\n",
    "    print('foo | bar')"
   ]
  },
  {
   "cell_type": "code",
   "execution_count": null,
   "metadata": {},
   "outputs": [],
   "source": []
  }
 ],
 "metadata": {
  "kernelspec": {
   "display_name": "Python 3",
   "language": "python",
   "name": "python3"
  },
  "language_info": {
   "codemirror_mode": {
    "name": "ipython",
    "version": 3
   },
   "file_extension": ".py",
   "mimetype": "text/x-python",
   "name": "python",
   "nbconvert_exporter": "python",
   "pygments_lexer": "ipython3",
   "version": "3.7.3"
  }
 },
 "nbformat": 4,
 "nbformat_minor": 2
}
