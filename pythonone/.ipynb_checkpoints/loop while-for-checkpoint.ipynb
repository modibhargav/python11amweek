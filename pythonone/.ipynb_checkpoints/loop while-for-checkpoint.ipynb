{
 "cells": [
  {
   "cell_type": "markdown",
   "metadata": {},
   "source": [
    "# while and for loops"
   ]
  },
  {
   "cell_type": "code",
   "execution_count": 4,
   "metadata": {},
   "outputs": [
    {
     "name": "stdout",
     "output_type": "stream",
     "text": [
      "squre is give function 1\n",
      "squre is give function 4\n",
      "squre is give function 9\n",
      "squre is give function 16\n",
      "squre is give function 25\n"
     ]
    }
   ],
   "source": [
    "c=1\n",
    "while c<=5:\n",
    "    print('squre is give function',c**2)\n",
    "    c += 1"
   ]
  },
  {
   "cell_type": "code",
   "execution_count": 10,
   "metadata": {},
   "outputs": [
    {
     "name": "stdout",
     "output_type": "stream",
     "text": [
      "1\n",
      "4\n",
      "5\n",
      "8\n",
      "9\n"
     ]
    }
   ],
   "source": [
    "c=1\n",
    "while c<=10:\n",
    "    print(c)\n",
    "    if c % 2 :\n",
    "        c+=2\n",
    "    c+=1"
   ]
  },
  {
   "cell_type": "code",
   "execution_count": 13,
   "metadata": {},
   "outputs": [
    {
     "name": "stdout",
     "output_type": "stream",
     "text": [
      "3\n",
      "5\n",
      "7\n",
      "9\n",
      "11\n"
     ]
    }
   ],
   "source": [
    "c=1\n",
    "while c<=10:\n",
    "    if c % 2 :\n",
    "        c += 2\n",
    "    else:\n",
    "        c += 2\n",
    "    print(c)"
   ]
  },
  {
   "cell_type": "code",
   "execution_count": 15,
   "metadata": {},
   "outputs": [
    {
     "name": "stdout",
     "output_type": "stream",
     "text": [
      "1\n",
      "3\n",
      "5\n",
      "7\n",
      "9\n"
     ]
    }
   ],
   "source": [
    "c=1\n",
    "while c<=10:\n",
    "    print(c)\n",
    "    if c % 2 ==0 :\n",
    "        c+=2\n",
    "    else:\n",
    "        c +=2"
   ]
  },
  {
   "cell_type": "code",
   "execution_count": 16,
   "metadata": {},
   "outputs": [
    {
     "name": "stdout",
     "output_type": "stream",
     "text": [
      "1\n",
      "3\n",
      "3\n",
      "8\n",
      "8\n",
      "13\n",
      "do you get it ? \n"
     ]
    }
   ],
   "source": [
    "c=1\n",
    "while c<=10:\n",
    "    print(c)\n",
    "    c+=4\n",
    "    if c % 5==0 :\n",
    "        c-=2\n",
    "    else:\n",
    "        c+=1\n",
    "    print(c)\n",
    "else:\n",
    "    print('do you get it ? ')"
   ]
  },
  {
   "cell_type": "code",
   "execution_count": 17,
   "metadata": {},
   "outputs": [
    {
     "name": "stdout",
     "output_type": "stream",
     "text": [
      "5\n",
      "9\n",
      "13\n"
     ]
    }
   ],
   "source": [
    "c=1\n",
    "while c<=10:\n",
    "    c+=1\n",
    "    if c % 2==0 :\n",
    "        c+=3\n",
    "    else:\n",
    "        c+=3\n",
    "    print(c)"
   ]
  },
  {
   "cell_type": "code",
   "execution_count": 18,
   "metadata": {},
   "outputs": [
    {
     "name": "stdout",
     "output_type": "stream",
     "text": [
      "2\n",
      "5\n",
      "6\n",
      "9\n",
      "10\n",
      "13\n"
     ]
    }
   ],
   "source": [
    "c=1\n",
    "while c <=  10:\n",
    "    c += 1\n",
    "    print(c)\n",
    "    if c % 2 :\n",
    "        c += 3\n",
    "    else:\n",
    "        c += 3\n",
    "    print(c)"
   ]
  },
  {
   "cell_type": "code",
   "execution_count": 19,
   "metadata": {},
   "outputs": [
    {
     "name": "stdout",
     "output_type": "stream",
     "text": [
      "loop start from here\n",
      "loop ends here\n"
     ]
    }
   ],
   "source": [
    "c = 11\n",
    "print('loop start from here')\n",
    "while c <= 10:\n",
    "    c= 1\n",
    "    print('whola i am inside the loop')\n",
    "    print(f'hello {c}')\n",
    "    c += 1\n",
    "else:\n",
    "    print('loop ends here')\n"
   ]
  },
  {
   "cell_type": "code",
   "execution_count": 20,
   "metadata": {},
   "outputs": [
    {
     "name": "stdout",
     "output_type": "stream",
     "text": [
      "this is the inside of loop\n",
      "hello1\n",
      "this is the inside of loop\n",
      "hello2\n",
      "this is the inside of loop\n",
      "hello3\n",
      "this is the inside of loop\n",
      "hello4\n",
      "this is the inside of loop\n",
      "hello5\n",
      "this is the inside of loop\n",
      "hello6\n",
      "this is the inside of loop\n",
      "hello7\n",
      "this is the inside of loop\n",
      "hello8\n",
      "this is the inside of loop\n",
      "hello9\n",
      "bye-bye\n"
     ]
    }
   ],
   "source": [
    "c = 1\n",
    "while c <= 50:\n",
    "    if c == 10:\n",
    "        print('bye-bye')\n",
    "        break\n",
    "    print('this is the inside of loop')\n",
    "    print(f'hello{c}')\n",
    "    c += 1\n",
    "else:\n",
    "    print('do i run or not?????')\n",
    "    \n",
    "    "
   ]
  },
  {
   "cell_type": "code",
   "execution_count": null,
   "metadata": {},
   "outputs": [
    {
     "name": "stdout",
     "output_type": "stream",
     "text": [
      "hello world time 5\n",
      "hello world time 4\n",
      "hello world time 3\n"
     ]
    }
   ],
   "source": [
    "c = 5\n",
    "while c>= 0:\n",
    "    if c == 2:\n",
    "        continue\n",
    "    print('hello world time',c)\n",
    "    c -= 1\n",
    "else:\n",
    "    print('condition galt or me bhai galt')"
   ]
  },
  {
   "cell_type": "code",
   "execution_count": 1,
   "metadata": {},
   "outputs": [
    {
     "name": "stdout",
     "output_type": "stream",
     "text": [
      "1\n",
      "5\n",
      "9\n",
      "doo i run or not\n"
     ]
    }
   ],
   "source": [
    "c = 1\n",
    "while c<=10:\n",
    "    print(c)\n",
    "    if c % 2:\n",
    "        c +=3\n",
    "    c += 1\n",
    "else:\n",
    "    print('doo i run or not')\n",
    "    "
   ]
  },
  {
   "cell_type": "code",
   "execution_count": 2,
   "metadata": {},
   "outputs": [
    {
     "name": "stdout",
     "output_type": "stream",
     "text": [
      "1\n",
      "5\n",
      "5\n",
      "8\n",
      "8\n",
      "11\n",
      "ho gya khtam \n"
     ]
    }
   ],
   "source": [
    "c=1\n",
    "while c<=10:\n",
    "    print(c)\n",
    "    c+=2\n",
    "    if c % 3==0 :\n",
    "        c+=2\n",
    "    else:\n",
    "        c+=1\n",
    "    print(c)\n",
    "print('ho gya khtam ')"
   ]
  },
  {
   "cell_type": "code",
   "execution_count": 3,
   "metadata": {},
   "outputs": [
    {
     "name": "stdout",
     "output_type": "stream",
     "text": [
      "2\n",
      "4\n",
      "6\n",
      "8\n",
      "10\n",
      "condition galt ho gayi he \n"
     ]
    }
   ],
   "source": [
    "c=1\n",
    "while c<=10:\n",
    "\n",
    "    c+=1\n",
    "    if c % 2 :\n",
    "        continue\n",
    "    print(c)\n",
    "else:\n",
    "    print('condition galt ho gayi he ')"
   ]
  },
  {
   "cell_type": "code",
   "execution_count": 6,
   "metadata": {},
   "outputs": [
    {
     "name": "stdout",
     "output_type": "stream",
     "text": [
      "4\n",
      "3\n",
      "1\n",
      "0\n",
      "-1\n",
      "loop over now \n"
     ]
    }
   ],
   "source": [
    "c=5\n",
    "while c>=0:\n",
    "    c-=1\n",
    "    if c == 2:\n",
    "        continue\n",
    "    print(c)\n",
    "else:\n",
    "    print('loop over now ')"
   ]
  },
  {
   "cell_type": "code",
   "execution_count": 7,
   "metadata": {},
   "outputs": [
    {
     "name": "stdout",
     "output_type": "stream",
     "text": [
      "loop start fron here\n",
      "hello to the world of python 0\n",
      "hello to the world of python 3\n",
      "hello to the world of python 6\n",
      "hello to the world of python 9\n",
      "now i am done\n"
     ]
    }
   ],
   "source": [
    "i = 0\n",
    "print('loop start fron here')\n",
    "while i<=10:\n",
    "    print('hello to the world of python',i)\n",
    "    i += 3\n",
    "else:\n",
    "    print('now i am done')"
   ]
  },
  {
   "cell_type": "code",
   "execution_count": 1,
   "metadata": {},
   "outputs": [
    {
     "name": "stdout",
     "output_type": "stream",
     "text": [
      "salam rocky bhai 4\n",
      "salam rocky bhai 3\n"
     ]
    }
   ],
   "source": [
    "a=5\n",
    "while a>0:\n",
    "    a -= 1\n",
    "    if a==2:\n",
    "        break\n",
    "    print('salam rocky bhai',a)\n",
    "else:\n",
    "    print('me javuga kya')"
   ]
  },
  {
   "cell_type": "code",
   "execution_count": 3,
   "metadata": {},
   "outputs": [
    {
     "name": "stdout",
     "output_type": "stream",
     "text": [
      "*\n",
      "**\n",
      "***\n",
      "****\n",
      "*****\n",
      "******\n",
      "*******\n",
      "********\n",
      "*********\n",
      "**********\n"
     ]
    }
   ],
   "source": [
    "c = 1\n",
    "while c<= 10:\n",
    "    print('*'*c,end='')\n",
    "    print('')\n",
    "    c+=1"
   ]
  },
  {
   "cell_type": "markdown",
   "metadata": {},
   "source": [
    "# for loop in python"
   ]
  },
  {
   "cell_type": "code",
   "execution_count": 4,
   "metadata": {},
   "outputs": [
    {
     "name": "stdout",
     "output_type": "stream",
     "text": [
      "0\n",
      "1\n",
      "2\n",
      "3\n",
      "4\n",
      "5\n",
      "6\n",
      "7\n",
      "8\n",
      "9\n"
     ]
    }
   ],
   "source": [
    "for var in range(10):\n",
    "    print(var)"
   ]
  },
  {
   "cell_type": "code",
   "execution_count": 6,
   "metadata": {},
   "outputs": [
    {
     "name": "stdout",
     "output_type": "stream",
     "text": [
      "bhargav 1\n",
      "bhargav 2\n",
      "bhargav 3\n",
      "bhargav 4\n",
      "bhargav 5\n",
      "bhargav 6\n",
      "bhargav 7\n",
      "bhargav 8\n",
      "bhargav 9\n",
      "bhargav 10\n"
     ]
    }
   ],
   "source": [
    "for var in range(1,11):\n",
    "    print('bhargav',var)"
   ]
  },
  {
   "cell_type": "code",
   "execution_count": 7,
   "metadata": {},
   "outputs": [],
   "source": [
    "import random"
   ]
  },
  {
   "cell_type": "code",
   "execution_count": 8,
   "metadata": {},
   "outputs": [],
   "source": [
    "l=[]\n",
    "for var in range(1,101):\n",
    "    l.append(var)\n"
   ]
  },
  {
   "cell_type": "code",
   "execution_count": 9,
   "metadata": {},
   "outputs": [
    {
     "name": "stdout",
     "output_type": "stream",
     "text": [
      "[1, 2, 3, 4, 5, 6, 7, 8, 9, 10, 11, 12, 13, 14, 15, 16, 17, 18, 19, 20, 21, 22, 23, 24, 25, 26, 27, 28, 29, 30, 31, 32, 33, 34, 35, 36, 37, 38, 39, 40, 41, 42, 43, 44, 45, 46, 47, 48, 49, 50, 51, 52, 53, 54, 55, 56, 57, 58, 59, 60, 61, 62, 63, 64, 65, 66, 67, 68, 69, 70, 71, 72, 73, 74, 75, 76, 77, 78, 79, 80, 81, 82, 83, 84, 85, 86, 87, 88, 89, 90, 91, 92, 93, 94, 95, 96, 97, 98, 99, 100]\n"
     ]
    }
   ],
   "source": [
    "print(l)"
   ]
  },
  {
   "cell_type": "code",
   "execution_count": 15,
   "metadata": {},
   "outputs": [
    {
     "name": "stdout",
     "output_type": "stream",
     "text": [
      "b==m\n",
      "b==e\n",
      "b==e\n",
      "b==t\n",
      "h==m\n",
      "h==e\n",
      "h==e\n",
      "h==t\n",
      "a==m\n",
      "a==e\n",
      "a==e\n",
      "a==t\n",
      "r==m\n",
      "r==e\n",
      "r==e\n",
      "r==t\n",
      "g==m\n",
      "g==e\n",
      "g==e\n",
      "g==t\n",
      "a==m\n",
      "a==e\n",
      "a==e\n",
      "a==t\n",
      "v==m\n",
      "v==e\n",
      "v==e\n",
      "v==t\n"
     ]
    }
   ],
   "source": [
    "for var in 'bhargav':\n",
    "    for tar in 'meet':\n",
    "        print(var,tar,sep='==')"
   ]
  },
  {
   "cell_type": "code",
   "execution_count": 17,
   "metadata": {},
   "outputs": [
    {
     "name": "stdout",
     "output_type": "stream",
     "text": [
      "b\n",
      "h\n",
      "a\n",
      "r\n",
      "g\n",
      "a\n",
      "v\n"
     ]
    }
   ],
   "source": [
    "for var in 'bhargav':\n",
    "    print(var)"
   ]
  },
  {
   "cell_type": "code",
   "execution_count": 24,
   "metadata": {},
   "outputs": [
    {
     "name": "stdout",
     "output_type": "stream",
     "text": [
      "bhargav meet sachin bhavik "
     ]
    }
   ],
   "source": [
    "for var in ['bhargav','meet','sachin','bhavik']:\n",
    "    print(var,end=' ')"
   ]
  },
  {
   "cell_type": "code",
   "execution_count": 25,
   "metadata": {},
   "outputs": [
    {
     "name": "stdout",
     "output_type": "stream",
     "text": [
      "1\n",
      "2\n",
      "3\n",
      "4\n",
      "5\n"
     ]
    }
   ],
   "source": [
    "for r in (1,2,3,4,5):\n",
    "    print(r)"
   ]
  },
  {
   "cell_type": "code",
   "execution_count": 28,
   "metadata": {},
   "outputs": [
    {
     "name": "stdout",
     "output_type": "stream",
     "text": [
      "enter a number:6\n",
      "6 * 1 = 6\n",
      "6 * 2 = 12\n",
      "6 * 3 = 18\n",
      "6 * 4 = 24\n",
      "6 * 5 = 30\n",
      "6 * 6 = 36\n",
      "6 * 7 = 42\n",
      "6 * 8 = 48\n",
      "6 * 9 = 54\n",
      "6 * 10 = 60\n"
     ]
    }
   ],
   "source": [
    "num = int(input('enter a number:'))\n",
    "for var in range(1,11):\n",
    "    print(f'{num} * {var} = {num*var}')"
   ]
  },
  {
   "cell_type": "code",
   "execution_count": 32,
   "metadata": {},
   "outputs": [
    {
     "name": "stdout",
     "output_type": "stream",
     "text": [
      "enter a number:8\n",
      "8 * 1 = 8\n",
      "8 * 2 = 16\n",
      "8 * 3 = 24\n",
      "8 * 4 = 32\n",
      "8 * 5 = 40\n",
      "8 * 6 = 48\n",
      "8 * 7 = 56\n",
      "8 * 8 = 64\n",
      "8 * 9 = 72\n",
      "8 * 10 = 80\n"
     ]
    }
   ],
   "source": [
    "num = int(input('enter a number:'))\n",
    "c=1\n",
    "while c<=10:\n",
    "    print(f'{num} * {c} = {num*c}')\n",
    "    c+=1"
   ]
  },
  {
   "cell_type": "code",
   "execution_count": 34,
   "metadata": {},
   "outputs": [
    {
     "name": "stdout",
     "output_type": "stream",
     "text": [
      "enter the number :6\n",
      "the squre of given number is : 36\n",
      "press any key to continue:7\n",
      "enter the number :8\n",
      "the squre of given number is : 64\n",
      "press any key to continue:9\n",
      "enter the number :9\n",
      "the squre of given number is : 81\n",
      "press any key to continue:\n",
      "i am useless now\n"
     ]
    }
   ],
   "source": [
    "while True:\n",
    "    num = int(input('enter the number :'))\n",
    "    print('the squre of given number is :',num**2)\n",
    "    if input('press any key to continue:'):\n",
    "        continue\n",
    "    else:\n",
    "        print('i am useless now')\n",
    "        break"
   ]
  },
  {
   "cell_type": "code",
   "execution_count": 9,
   "metadata": {},
   "outputs": [
    {
     "name": "stdout",
     "output_type": "stream",
     "text": [
      "5\n",
      "10\n",
      "15\n",
      "20\n",
      "25\n",
      "30\n",
      "35\n",
      "40\n",
      "45\n",
      "50\n"
     ]
    }
   ],
   "source": [
    "for var in range(5,51,5):\n",
    "    print(var)"
   ]
  },
  {
   "cell_type": "code",
   "execution_count": 13,
   "metadata": {},
   "outputs": [],
   "source": [
    "di = {\n",
    "    'name':'bhargav',\n",
    "    'prof':'grras',\n",
    "    'work':'manegement',\n",
    "    'class':'high',\n",
    "}"
   ]
  },
  {
   "cell_type": "code",
   "execution_count": 14,
   "metadata": {},
   "outputs": [
    {
     "name": "stdout",
     "output_type": "stream",
     "text": [
      "name\n",
      "prof\n",
      "work\n",
      "class\n"
     ]
    }
   ],
   "source": [
    "for var in di:\n",
    "    print(var)"
   ]
  },
  {
   "cell_type": "code",
   "execution_count": 16,
   "metadata": {},
   "outputs": [
    {
     "name": "stdout",
     "output_type": "stream",
     "text": [
      "name===bhargav\n",
      "prof===grras\n",
      "work===manegement\n",
      "class===high\n"
     ]
    }
   ],
   "source": [
    "for var,tar in di.items():\n",
    "    print(var,tar,sep='===')"
   ]
  },
  {
   "cell_type": "code",
   "execution_count": 32,
   "metadata": {},
   "outputs": [
    {
     "name": "stdout",
     "output_type": "stream",
     "text": [
      "enter a number:4\n",
      "i\n",
      "i\n",
      "i\n",
      "i\n",
      "i\n",
      "i\n",
      "i\n",
      "i\n",
      "i\n",
      "i\n",
      "i\n",
      "i\n",
      "i\n",
      "i\n",
      "\n"
     ]
    }
   ],
   "source": [
    "n=int(input(\"enter a number:\"))\n",
    "for i in range(1,n+1):\n",
    "    for j in range(0,i+1):\n",
    "          print('i',end='\\n')\n",
    "print(\"\")\n",
    "    "
   ]
  },
  {
   "cell_type": "code",
   "execution_count": 11,
   "metadata": {},
   "outputs": [
    {
     "name": "stdout",
     "output_type": "stream",
     "text": [
      "enter a number:9\n",
      "1 \n",
      "2 2 \n",
      "3 3 3 \n",
      "4 4 4 4 \n",
      "5 5 5 5 5 \n",
      "6 6 6 6 6 6 \n",
      "7 7 7 7 7 7 7 \n",
      "8 8 8 8 8 8 8 8 \n",
      "9 9 9 9 9 9 9 9 9 \n"
     ]
    }
   ],
   "source": [
    "n=int(input(\"enter a number:\"))\n",
    "for i in range(1,n+1):\n",
    "    for j in range(1,i+1):\n",
    "          print(i,end=\" \")\n",
    "    print()"
   ]
  },
  {
   "cell_type": "code",
   "execution_count": 13,
   "metadata": {},
   "outputs": [
    {
     "name": "stdout",
     "output_type": "stream",
     "text": [
      "enter a number:6\n",
      "\n",
      "1 \n",
      "1 2 \n",
      "1 2 3 \n",
      "1 2 3 4 \n",
      "1 2 3 4 5 \n"
     ]
    }
   ],
   "source": [
    "n=int(input(\"enter a number:\"))\n",
    "for i in range(1,n+1):\n",
    "    for j in range(1,i):\n",
    "        print(j,end=' ')\n",
    "    print()"
   ]
  },
  {
   "cell_type": "code",
   "execution_count": 15,
   "metadata": {},
   "outputs": [
    {
     "name": "stdout",
     "output_type": "stream",
     "text": [
      "enter a number:6\n",
      "\n",
      "* \n",
      "* * \n",
      "* * * \n",
      "* * * * \n",
      "* * * * * \n"
     ]
    }
   ],
   "source": [
    "n=int(input(\"enter a number:\"))\n",
    "for i in range(1,n+1):\n",
    "    for j in range(1,i):\n",
    "        print('*',end=' ')\n",
    "    print()"
   ]
  },
  {
   "cell_type": "code",
   "execution_count": 17,
   "metadata": {},
   "outputs": [
    {
     "name": "stdout",
     "output_type": "stream",
     "text": [
      "enter a number:5\n",
      "*\n",
      "**\n",
      "***\n",
      "****\n",
      "*****\n"
     ]
    }
   ],
   "source": [
    "n=int(input(\"enter a number:\"))\n",
    "for var in range(1,n+1):\n",
    "    print('*'*var)"
   ]
  },
  {
   "cell_type": "code",
   "execution_count": 19,
   "metadata": {},
   "outputs": [
    {
     "name": "stdout",
     "output_type": "stream",
     "text": [
      "enter a number:5\n",
      "* ** *** **** ***** "
     ]
    }
   ],
   "source": [
    "n=int(input(\"enter a number:\"))\n",
    "for var in range(1,n+1):\n",
    "    print('*'*var,end=' ')"
   ]
  },
  {
   "cell_type": "code",
   "execution_count": 38,
   "metadata": {},
   "outputs": [
    {
     "name": "stdout",
     "output_type": "stream",
     "text": [
      "***********\n",
      "**********\n",
      "*********\n",
      "********\n",
      "*******\n",
      "******\n",
      "*****\n",
      "****\n",
      "***\n",
      "**\n",
      "*\n"
     ]
    }
   ],
   "source": [
    "for var in range(11,0,-1):\n",
    "    print('*'*var)"
   ]
  },
  {
   "cell_type": "code",
   "execution_count": 47,
   "metadata": {},
   "outputs": [
    {
     "name": "stdout",
     "output_type": "stream",
     "text": [
      "12345\n",
      "1234\n",
      "123\n",
      "12\n",
      "1\n",
      "\n"
     ]
    }
   ],
   "source": [
    "for i in range(6,0,-1):\n",
    "    for j in range(1,i):\n",
    "        print(j,end='')\n",
    "    print()"
   ]
  },
  {
   "cell_type": "code",
   "execution_count": 49,
   "metadata": {},
   "outputs": [
    {
     "name": "stdout",
     "output_type": "stream",
     "text": [
      "666666\n",
      "55555\n",
      "4444\n",
      "333\n",
      "22\n",
      "1\n"
     ]
    }
   ],
   "source": [
    "for i in range(6,0,-1):\n",
    "    for j in range(0,i):\n",
    "        print(i,end='')\n",
    "    print()"
   ]
  },
  {
   "cell_type": "code",
   "execution_count": 1,
   "metadata": {},
   "outputs": [
    {
     "name": "stdout",
     "output_type": "stream",
     "text": [
      "enter a number:9\n",
      "012345678\n",
      "012345678\n",
      "012345678\n",
      "012345678\n",
      "012345678\n",
      "012345678\n",
      "012345678\n",
      "012345678\n",
      "012345678\n"
     ]
    }
   ],
   "source": [
    "n=int(input('enter a number:'))\n",
    "for i in range(n,0,-1):\n",
    "    for j in range(0,n):\n",
    "        print(j,end='')\n",
    "    print()"
   ]
  },
  {
   "cell_type": "code",
   "execution_count": null,
   "metadata": {},
   "outputs": [],
   "source": []
  }
 ],
 "metadata": {
  "kernelspec": {
   "display_name": "Python 3",
   "language": "python",
   "name": "python3"
  },
  "language_info": {
   "codemirror_mode": {
    "name": "ipython",
    "version": 3
   },
   "file_extension": ".py",
   "mimetype": "text/x-python",
   "name": "python",
   "nbconvert_exporter": "python",
   "pygments_lexer": "ipython3",
   "version": "3.7.3"
  }
 },
 "nbformat": 4,
 "nbformat_minor": 2
}
